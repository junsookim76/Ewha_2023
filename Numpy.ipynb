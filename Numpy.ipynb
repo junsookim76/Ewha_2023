{
  "cells": [
    {
      "cell_type": "markdown",
      "metadata": {
        "id": "view-in-github",
        "colab_type": "text"
      },
      "source": [
        "<a href=\"https://colab.research.google.com/github/junsookim76/Ewha_2023/blob/main/Numpy.ipynb\" target=\"_parent\"><img src=\"https://colab.research.google.com/assets/colab-badge.svg\" alt=\"Open In Colab\"/></a>"
      ]
    },
    {
      "cell_type": "markdown",
      "metadata": {
        "id": "0sqYcf7iIMgY"
      },
      "source": [
        "# \"Import\" numpy and etc"
      ]
    },
    {
      "cell_type": "code",
      "execution_count": null,
      "metadata": {
        "id": "XhzGIlxYIMga"
      },
      "outputs": [],
      "source": [
        "import numpy as np\n",
        "import matplotlib.pyplot as plt\n",
        "import sys,os,copy,random,math\n",
        "%matplotlib inline "
      ]
    },
    {
      "cell_type": "markdown",
      "metadata": {
        "id": "TP8feC0cIMgb"
      },
      "source": [
        "# Create numpy array"
      ]
    },
    {
      "cell_type": "code",
      "execution_count": null,
      "metadata": {
        "id": "PAbiLRKGIMgb",
        "outputId": "332de067-4fa9-4002-fec6-c6206c0b3ecb"
      },
      "outputs": [
        {
          "name": "stdout",
          "output_type": "stream",
          "text": [
            "<class 'list'>\n",
            "<class 'numpy.ndarray'>\n",
            "[1 2 3 4 5 6 7 8]\n",
            "(8,)\n"
          ]
        }
      ],
      "source": [
        "array=[1,2,3,4,5,6,7,8]\n",
        "numpy_array=np.array(array)\n",
        "print(type(array))\n",
        "print(type(numpy_array))\n",
        "print(numpy_array)\n",
        "print(numpy_array.shape)"
      ]
    },
    {
      "cell_type": "markdown",
      "metadata": {
        "id": "LcX74KVDIMgc"
      },
      "source": [
        "# Change array shape"
      ]
    },
    {
      "cell_type": "code",
      "execution_count": null,
      "metadata": {
        "id": "G1fQtO6JIMgc",
        "outputId": "428de34d-c4f2-4869-be6f-242096c8a51f"
      },
      "outputs": [
        {
          "name": "stdout",
          "output_type": "stream",
          "text": [
            "[[1 2 3 4]\n",
            " [5 6 7 8]]\n"
          ]
        }
      ],
      "source": [
        "new_array=np.reshape(array,(2,-1))\n",
        "print(new_array)"
      ]
    },
    {
      "cell_type": "markdown",
      "metadata": {
        "id": "s7u4u5gUIMgc"
      },
      "source": [
        "# Indexing and slicing"
      ]
    },
    {
      "cell_type": "code",
      "execution_count": null,
      "metadata": {
        "id": "3AeIzKzUIMgd",
        "outputId": "abc4026a-6604-4c2f-b739-113e2ebc87c7"
      },
      "outputs": [
        {
          "data": {
            "text/plain": [
              "7"
            ]
          },
          "execution_count": 7,
          "metadata": {},
          "output_type": "execute_result"
        }
      ],
      "source": [
        "new_array[1,2]"
      ]
    },
    {
      "cell_type": "code",
      "execution_count": null,
      "metadata": {
        "id": "W5kT1MbfIMgd",
        "outputId": "c066c8b3-eecf-4716-c21f-ccadb63c6f76"
      },
      "outputs": [
        {
          "data": {
            "text/plain": [
              "array([5, 6, 7, 8])"
            ]
          },
          "execution_count": 8,
          "metadata": {},
          "output_type": "execute_result"
        }
      ],
      "source": [
        "new_array[1,:]"
      ]
    },
    {
      "cell_type": "code",
      "execution_count": null,
      "metadata": {
        "id": "ewvUjORqIMgd",
        "outputId": "9b4617fb-afdf-4456-db59-1a125c2f49c5"
      },
      "outputs": [
        {
          "data": {
            "text/plain": [
              "array([1, 3])"
            ]
          },
          "execution_count": 9,
          "metadata": {},
          "output_type": "execute_result"
        }
      ],
      "source": [
        "new_array[0,::2]"
      ]
    },
    {
      "cell_type": "code",
      "execution_count": null,
      "metadata": {
        "id": "CkTxv2ALIMge",
        "outputId": "0021585c-9a3b-4d72-b03d-3922f0e9fc7f"
      },
      "outputs": [
        {
          "data": {
            "text/plain": [
              "array([2, 4])"
            ]
          },
          "execution_count": 10,
          "metadata": {},
          "output_type": "execute_result"
        }
      ],
      "source": [
        "new_array[0,1::2]"
      ]
    },
    {
      "cell_type": "code",
      "execution_count": null,
      "metadata": {
        "id": "rhKadlpKIMge",
        "outputId": "16b448dc-789e-4abc-9b2d-2cd952a725e5"
      },
      "outputs": [
        {
          "data": {
            "text/plain": [
              "array([[1, 2],\n",
              "       [5, 6]])"
            ]
          },
          "execution_count": 11,
          "metadata": {},
          "output_type": "execute_result"
        }
      ],
      "source": [
        "array2=new_array[:,:2]\n",
        "array2"
      ]
    },
    {
      "cell_type": "code",
      "execution_count": null,
      "metadata": {
        "id": "0IiNVYrIIMgf",
        "outputId": "25cfd9de-92f6-4d7a-e6e3-6364b9e61c47"
      },
      "outputs": [
        {
          "data": {
            "text/plain": [
              "array([[0., 0., 0., 0., 0., 0., 0., 0.],\n",
              "       [0., 0., 0., 0., 0., 0., 0., 0.],\n",
              "       [0., 0., 0., 0., 0., 0., 0., 0.],\n",
              "       [0., 0., 0., 0., 0., 0., 0., 0.],\n",
              "       [0., 0., 0., 0., 0., 0., 0., 0.],\n",
              "       [0., 0., 0., 0., 0., 0., 0., 0.],\n",
              "       [0., 0., 0., 0., 0., 0., 0., 0.],\n",
              "       [0., 0., 0., 0., 0., 0., 0., 0.]])"
            ]
          },
          "execution_count": 12,
          "metadata": {},
          "output_type": "execute_result"
        }
      ],
      "source": [
        "new2=np.zeros((8,8))\n",
        "new2"
      ]
    },
    {
      "cell_type": "code",
      "execution_count": null,
      "metadata": {
        "id": "a4AReIfAIMgf",
        "outputId": "0f012daa-d700-49b7-d391-18323185be4e"
      },
      "outputs": [
        {
          "data": {
            "text/plain": [
              "array([[0., 0., 0., 0., 0., 0., 0., 0.],\n",
              "       [0., 0., 0., 0., 0., 0., 0., 0.],\n",
              "       [0., 0., 0., 0., 1., 0., 2., 0.],\n",
              "       [0., 0., 0., 0., 0., 0., 0., 0.],\n",
              "       [0., 0., 0., 0., 0., 0., 0., 0.],\n",
              "       [0., 0., 0., 0., 5., 0., 6., 0.],\n",
              "       [0., 0., 0., 0., 0., 0., 0., 0.],\n",
              "       [0., 0., 0., 0., 0., 0., 0., 0.]])"
            ]
          },
          "execution_count": 10,
          "metadata": {},
          "output_type": "execute_result"
        }
      ],
      "source": [
        "new2[2::3,4::2]=array2\n",
        "new2"
      ]
    },
    {
      "cell_type": "code",
      "execution_count": null,
      "metadata": {
        "id": "62FC0wDAIMgf",
        "outputId": "abc20ee7-27c9-4638-c523-2b4c95811939"
      },
      "outputs": [
        {
          "data": {
            "text/plain": [
              "array([[False, False,  True,  True],\n",
              "       [ True,  True,  True,  True]])"
            ]
          },
          "execution_count": 11,
          "metadata": {},
          "output_type": "execute_result"
        }
      ],
      "source": [
        "new_array>2"
      ]
    },
    {
      "cell_type": "code",
      "execution_count": null,
      "metadata": {
        "id": "MNSSp-xUIMgg",
        "outputId": "767872c6-ac52-4e36-c3f7-e4317b47c0a5"
      },
      "outputs": [
        {
          "data": {
            "text/plain": [
              "array([3, 4, 5, 6, 7, 8])"
            ]
          },
          "execution_count": 13,
          "metadata": {},
          "output_type": "execute_result"
        }
      ],
      "source": [
        "new_array[new_array>2]"
      ]
    },
    {
      "cell_type": "markdown",
      "metadata": {
        "id": "0jqqszrEIMgg"
      },
      "source": [
        "# Calculation"
      ]
    },
    {
      "cell_type": "code",
      "execution_count": null,
      "metadata": {
        "id": "3vsAcQfDIMgg",
        "outputId": "4519773b-2b76-4040-ea48-d980a1a2d035"
      },
      "outputs": [
        {
          "data": {
            "text/plain": [
              "array([[ 3,  4,  5,  6],\n",
              "       [ 7,  8,  9, 10]])"
            ]
          },
          "execution_count": 14,
          "metadata": {},
          "output_type": "execute_result"
        }
      ],
      "source": [
        "new_array+2"
      ]
    },
    {
      "cell_type": "code",
      "execution_count": null,
      "metadata": {
        "id": "jQDxKhZLIMgh",
        "outputId": "fe07036f-6ea7-49b8-a44b-75659bbb79b4"
      },
      "outputs": [
        {
          "data": {
            "text/plain": [
              "array([[1., 1., 1., 1.],\n",
              "       [1., 1., 1., 1.]])"
            ]
          },
          "execution_count": 15,
          "metadata": {},
          "output_type": "execute_result"
        }
      ],
      "source": [
        "new_array/new_array"
      ]
    },
    {
      "cell_type": "code",
      "execution_count": null,
      "metadata": {
        "id": "bMyydBXtIMgh",
        "outputId": "441a6fc2-8fb7-4efa-ce3b-96fb1aab0896"
      },
      "outputs": [
        {
          "data": {
            "text/plain": [
              "array([10, 26])"
            ]
          },
          "execution_count": 16,
          "metadata": {},
          "output_type": "execute_result"
        }
      ],
      "source": [
        "np.sum(new_array,axis=1)"
      ]
    },
    {
      "cell_type": "code",
      "execution_count": null,
      "metadata": {
        "id": "A31C0YvfIMgh",
        "outputId": "7a6bf328-011c-42f7-efbc-f50c62558d78"
      },
      "outputs": [
        {
          "data": {
            "text/plain": [
              "70"
            ]
          },
          "execution_count": 17,
          "metadata": {},
          "output_type": "execute_result"
        }
      ],
      "source": [
        "np.dot(new_array[0],new_array[1])"
      ]
    },
    {
      "cell_type": "markdown",
      "metadata": {
        "id": "DCfIdNBfIMgi"
      },
      "source": [
        "# File IO"
      ]
    },
    {
      "cell_type": "code",
      "execution_count": null,
      "metadata": {
        "id": "nkNBE0bwIMgi"
      },
      "outputs": [],
      "source": [
        "np.savetxt(\"data.txt\",new_array)"
      ]
    },
    {
      "cell_type": "code",
      "execution_count": null,
      "metadata": {
        "id": "mazdXQumIMgi",
        "outputId": "5487f387-4272-4b70-a041-45d2c089dd75"
      },
      "outputs": [
        {
          "data": {
            "text/plain": [
              "array([[1., 2., 3., 4.],\n",
              "       [5., 6., 7., 8.]])"
            ]
          },
          "execution_count": 19,
          "metadata": {},
          "output_type": "execute_result"
        }
      ],
      "source": [
        "np.loadtxt(\"data.txt\")"
      ]
    },
    {
      "cell_type": "markdown",
      "metadata": {
        "id": "GJIEYMPOIMgj"
      },
      "source": [
        "# Random"
      ]
    },
    {
      "cell_type": "code",
      "execution_count": null,
      "metadata": {
        "id": "jNVXvxm4IMgj",
        "outputId": "e0f1152e-b98a-42ac-d3a1-0af0e5648627"
      },
      "outputs": [
        {
          "data": {
            "text/plain": [
              "array([[4, 1, 4, 8, 3, 3, 3, 6, 5, 4],\n",
              "       [4, 9, 8, 0, 6, 3, 1, 6, 0, 6],\n",
              "       [9, 6, 3, 4, 4, 0, 3, 4, 2, 3],\n",
              "       [0, 3, 9, 7, 1, 3, 8, 8, 6, 0],\n",
              "       [6, 2, 4, 5, 3, 5, 3, 1, 3, 7],\n",
              "       [1, 8, 6, 3, 7, 4, 0, 6, 6, 5],\n",
              "       [1, 7, 0, 0, 5, 4, 9, 0, 8, 1],\n",
              "       [6, 1, 1, 4, 6, 2, 3, 8, 9, 9],\n",
              "       [0, 2, 6, 0, 9, 7, 2, 4, 3, 2],\n",
              "       [6, 2, 7, 8, 4, 0, 3, 7, 9, 6]])"
            ]
          },
          "execution_count": 19,
          "metadata": {},
          "output_type": "execute_result"
        }
      ],
      "source": [
        "np.random.randint(10,size=(10,10))"
      ]
    },
    {
      "cell_type": "code",
      "execution_count": null,
      "metadata": {
        "id": "hJOus3Q5IMgj",
        "outputId": "5e5d0131-19d0-4516-dbe2-fb4798ceb73a"
      },
      "outputs": [
        {
          "data": {
            "text/plain": [
              "array([[0.8219204 , 0.19909193, 0.69374338, 0.30605576, 0.46330262],\n",
              "       [0.67795606, 0.23648038, 0.91973928, 0.62462397, 0.60707418],\n",
              "       [0.44153858, 0.7237237 , 0.47928971, 0.37004131, 0.53868327]])"
            ]
          },
          "execution_count": 20,
          "metadata": {},
          "output_type": "execute_result"
        }
      ],
      "source": [
        "np.random.rand(3,5)"
      ]
    },
    {
      "cell_type": "code",
      "execution_count": null,
      "metadata": {
        "id": "HMfGCAfTIMgk",
        "outputId": "f458f9b4-353b-438c-cfe0-dc2aebe51a30"
      },
      "outputs": [
        {
          "name": "stdout",
          "output_type": "stream",
          "text": [
            "[[-0.76231407  0.48954048 -0.11887235 ... -0.25813643 -0.05616639\n",
            "  -0.24090877]\n",
            " [ 0.47774727  0.77618363 -0.30774776 ... -0.06470761  0.75643045\n",
            "  -0.94063182]]\n"
          ]
        }
      ],
      "source": [
        "randarray=np.random.rand(2,100000)*2-1\n",
        "print(randarray)"
      ]
    },
    {
      "cell_type": "code",
      "execution_count": null,
      "metadata": {
        "id": "U8_NxRtAIMgk",
        "outputId": "c0fdc024-e26b-42d4-dc21-7ab123527c9a"
      },
      "outputs": [
        {
          "name": "stdout",
          "output_type": "stream",
          "text": [
            "(100000,)\n"
          ]
        }
      ],
      "source": [
        "data=randarray[0]+randarray[1]\n",
        "print(data.shape)"
      ]
    },
    {
      "cell_type": "code",
      "execution_count": null,
      "metadata": {
        "id": "iwOj5hhsIMgk",
        "outputId": "f553ce64-12ce-44f8-ed63-b085e1754bac"
      },
      "outputs": [
        {
          "data": {
            "text/plain": [
              "(array([3231., 3317., 3333., 3405., 3347., 3330., 3324., 3404., 3203.,\n",
              "        3342., 3330., 3381., 3279., 3322., 3381., 3260., 3309., 3321.,\n",
              "        3304., 3363., 3454., 3318., 3332., 3293., 3460., 3295., 3424.,\n",
              "        3246., 3375., 3317.]),\n",
              " array([-9.99935000e-01, -9.33271255e-01, -8.66607509e-01, -7.99943763e-01,\n",
              "        -7.33280018e-01, -6.66616272e-01, -5.99952526e-01, -5.33288781e-01,\n",
              "        -4.66625035e-01, -3.99961289e-01, -3.33297544e-01, -2.66633798e-01,\n",
              "        -1.99970053e-01, -1.33306307e-01, -6.66425613e-02,  2.11843053e-05,\n",
              "         6.66849299e-02,  1.33348676e-01,  2.00012421e-01,  2.66676167e-01,\n",
              "         3.33339912e-01,  4.00003658e-01,  4.66667404e-01,  5.33331149e-01,\n",
              "         5.99994895e-01,  6.66658641e-01,  7.33322386e-01,  7.99986132e-01,\n",
              "         8.66649878e-01,  9.33313623e-01,  9.99977369e-01]),\n",
              " <BarContainer object of 30 artists>)"
            ]
          },
          "execution_count": 28,
          "metadata": {},
          "output_type": "execute_result"
        },
        {
          "data": {
            "image/png": "[encoded data removed]",
            "text/plain": [
              "<Figure size 432x288 with 1 Axes>"
            ]
          },
          "metadata": {
            "needs_background": "light"
          },
          "output_type": "display_data"
        }
      ],
      "source": [
        "plt.hist(randarray[0],bins=30)"
      ]
    },
    {
      "cell_type": "code",
      "execution_count": null,
      "metadata": {
        "id": "O2I5P4QCIMgk",
        "outputId": "aec95510-fecf-4c47-c5da-158d0ea8abcd"
      },
      "outputs": [
        {
          "data": {
            "text/plain": [
              "(array([ 272.,  667., 1066., 1520., 1959., 2388., 2933., 3285., 3822.,\n",
              "        4157., 4631., 5129., 5649., 5935., 6506., 6285., 5887., 5645.,\n",
              "        5054., 4590., 4310., 3746., 3400., 2839., 2512., 2055., 1570.,\n",
              "        1233.,  690.,  265.]),\n",
              " array([-1.99057289e+00, -1.85796294e+00, -1.72535300e+00, -1.59274305e+00,\n",
              "        -1.46013311e+00, -1.32752316e+00, -1.19491322e+00, -1.06230328e+00,\n",
              "        -9.29693331e-01, -7.97083387e-01, -6.64473442e-01, -5.31863498e-01,\n",
              "        -3.99253553e-01, -2.66643609e-01, -1.34033664e-01, -1.42371978e-03,\n",
              "         1.31186225e-01,  2.63796169e-01,  3.96406114e-01,  5.29016058e-01,\n",
              "         6.61626003e-01,  7.94235947e-01,  9.26845892e-01,  1.05945584e+00,\n",
              "         1.19206578e+00,  1.32467573e+00,  1.45728567e+00,  1.58989561e+00,\n",
              "         1.72250556e+00,  1.85511550e+00,  1.98772545e+00]),\n",
              " <BarContainer object of 30 artists>)"
            ]
          },
          "execution_count": 24,
          "metadata": {},
          "output_type": "execute_result"
        },
        {
          "data": {
            "image/png": "[encoded data removed]",
            "text/plain": [
              "<Figure size 432x288 with 1 Axes>"
            ]
          },
          "metadata": {
            "needs_background": "light"
          },
          "output_type": "display_data"
        }
      ],
      "source": [
        "plt.hist(data,bins=30)"
      ]
    },
    {
      "cell_type": "code",
      "execution_count": null,
      "metadata": {
        "id": "BjNcCK22IMgk",
        "outputId": "39bbb295-53d1-4659-b91a-f27d5d58928d"
      },
      "outputs": [
        {
          "data": {
            "text/plain": [
              "(array([ 9934.,  9906., 10046., 10048.,  9980., 10032., 10057.,  9770.,\n",
              "        10013., 10124.,  9935., 10029., 10005.,  9946., 10024.,  9881.,\n",
              "         9940., 10142., 10163., 10025.]),\n",
              " array([-1.00000000e+00, -9.00000000e-01, -8.00000000e-01, -7.00000000e-01,\n",
              "        -6.00000000e-01, -5.00000000e-01, -4.00000000e-01, -3.00000000e-01,\n",
              "        -2.00000000e-01, -1.00000000e-01, -2.22044605e-16,  1.00000000e-01,\n",
              "         2.00000000e-01,  3.00000000e-01,  4.00000000e-01,  5.00000000e-01,\n",
              "         6.00000000e-01,  7.00000000e-01,  8.00000000e-01,  9.00000000e-01,\n",
              "         1.00000000e+00]),\n",
              " <a list of 20 Patch objects>)"
            ]
          },
          "execution_count": 24,
          "metadata": {},
          "output_type": "execute_result"
        },
        {
          "data": {
            "image/png": "[encoded data removed]",
            "text/plain": [
              "<Figure size 432x288 with 1 Axes>"
            ]
          },
          "metadata": {
            "needs_background": "light"
          },
          "output_type": "display_data"
        }
      ],
      "source": [
        "plt.hist(randarray.reshape((-1,1)),bins=np.arange(-1,1.01,0.1))"
      ]
    },
    {
      "cell_type": "code",
      "execution_count": null,
      "metadata": {
        "id": "wVJQsygWIMgl"
      },
      "outputs": [],
      "source": [
        "rand_normal=np.random.normal(1,4,size=(1000000))"
      ]
    },
    {
      "cell_type": "code",
      "execution_count": null,
      "metadata": {
        "id": "5w0kTEVOIMgl",
        "outputId": "4bc2c492-3d8d-4ce0-e939-9270544d11fa"
      },
      "outputs": [
        {
          "data": {
            "text/plain": [
              "1.0051853945581795"
            ]
          },
          "execution_count": 30,
          "metadata": {},
          "output_type": "execute_result"
        }
      ],
      "source": [
        "np.average(rand_normal)"
      ]
    },
    {
      "cell_type": "code",
      "execution_count": null,
      "metadata": {
        "id": "KhKkMhctIMgl",
        "outputId": "7bfa1b2b-98ff-48ae-de93-dbe9b499f0af"
      },
      "outputs": [
        {
          "data": {
            "text/plain": [
              "4.000208107787804"
            ]
          },
          "execution_count": 31,
          "metadata": {},
          "output_type": "execute_result"
        }
      ],
      "source": [
        "np.std(rand_normal)"
      ]
    },
    {
      "cell_type": "code",
      "execution_count": null,
      "metadata": {
        "id": "0SUfIqBPIMgl",
        "outputId": "63a5c7a9-3524-4b8e-b2a6-61e4d7292a6a"
      },
      "outputs": [
        {
          "data": {
            "text/plain": [
              "4.000859556206164"
            ]
          },
          "execution_count": 32,
          "metadata": {},
          "output_type": "execute_result"
        }
      ],
      "source": [
        "math.sqrt(np.sum(rand_normal*rand_normal)/rand_normal.size-np.sum(rand_normal)/rand_normal.size)"
      ]
    },
    {
      "cell_type": "code",
      "execution_count": null,
      "metadata": {
        "id": "_k-FPjVjIMgm",
        "outputId": "a59e94c4-f7dc-4ce2-8028-2ca42e5c038d"
      },
      "outputs": [
        {
          "data": {
            "text/plain": [
              "(array([1.0000e+00, 0.0000e+00, 1.0000e+00, 0.0000e+00, 0.0000e+00,\n",
              "        0.0000e+00, 1.0000e+00, 0.0000e+00, 2.0000e+00, 2.0000e+00,\n",
              "        1.0000e+00, 2.0000e+00, 1.0000e+00, 8.0000e+00, 6.0000e+00,\n",
              "        4.0000e+00, 1.0000e+01, 8.0000e+00, 9.0000e+00, 1.3000e+01,\n",
              "        1.4000e+01, 1.9000e+01, 2.7000e+01, 2.8000e+01, 3.2000e+01,\n",
              "        2.7000e+01, 4.5000e+01, 5.6000e+01, 8.2000e+01, 7.9000e+01,\n",
              "        8.0000e+01, 9.3000e+01, 1.2700e+02, 1.4400e+02, 1.8000e+02,\n",
              "        1.6100e+02, 1.9400e+02, 2.5000e+02, 2.7400e+02, 3.6300e+02,\n",
              "        3.7300e+02, 4.3300e+02, 4.8200e+02, 5.9100e+02, 6.4500e+02,\n",
              "        7.4800e+02, 8.0100e+02, 9.2700e+02, 1.1110e+03, 1.2560e+03,\n",
              "        1.3930e+03, 1.5590e+03, 1.7150e+03, 1.8770e+03, 2.0960e+03,\n",
              "        2.3170e+03, 2.6660e+03, 2.8520e+03, 3.1860e+03, 3.6130e+03,\n",
              "        3.8000e+03, 4.2040e+03, 4.6500e+03, 4.9620e+03, 5.4330e+03,\n",
              "        5.8400e+03, 6.2020e+03, 6.7470e+03, 7.1240e+03, 7.7170e+03,\n",
              "        8.2220e+03, 8.7870e+03, 9.3950e+03, 9.9420e+03, 1.0515e+04,\n",
              "        1.1257e+04, 1.1691e+04, 1.2288e+04, 1.3081e+04, 1.3401e+04,\n",
              "        1.3984e+04, 1.4651e+04, 1.5080e+04, 1.5537e+04, 1.6126e+04,\n",
              "        1.6280e+04, 1.6956e+04, 1.7359e+04, 1.7746e+04, 1.8350e+04,\n",
              "        1.8556e+04, 1.8883e+04, 1.9113e+04, 1.9385e+04, 1.9504e+04,\n",
              "        1.9627e+04, 1.9446e+04, 1.9842e+04, 1.9678e+04, 1.9677e+04,\n",
              "        1.9310e+04, 1.9331e+04, 1.8995e+04, 1.8594e+04, 1.8429e+04,\n",
              "        1.8084e+04, 1.7827e+04, 1.7110e+04, 1.6969e+04, 1.6386e+04,\n",
              "        1.5735e+04, 1.5393e+04, 1.4952e+04, 1.4493e+04, 1.3749e+04,\n",
              "        1.3170e+04, 1.2534e+04, 1.1776e+04, 1.1428e+04, 1.0784e+04,\n",
              "        1.0094e+04, 9.5300e+03, 9.0690e+03, 8.6160e+03, 7.9140e+03,\n",
              "        7.5120e+03, 6.9220e+03, 6.5450e+03, 6.1660e+03, 5.4450e+03,\n",
              "        5.1150e+03, 4.7020e+03, 4.4680e+03, 4.0710e+03, 3.6440e+03,\n",
              "        3.3490e+03, 2.9490e+03, 2.7940e+03, 2.4750e+03, 2.1520e+03,\n",
              "        2.0680e+03, 1.7650e+03, 1.6060e+03, 1.3960e+03, 1.3480e+03,\n",
              "        1.1460e+03, 1.0420e+03, 9.2500e+02, 8.0200e+02, 7.5700e+02,\n",
              "        5.7800e+02, 5.3500e+02, 4.9300e+02, 4.2000e+02, 3.4300e+02,\n",
              "        3.1900e+02, 2.9000e+02, 2.3500e+02, 2.0100e+02, 1.8800e+02,\n",
              "        1.2900e+02, 1.3600e+02, 8.2000e+01, 1.1800e+02, 7.9000e+01,\n",
              "        7.2000e+01, 4.3000e+01, 3.8000e+01, 4.6000e+01, 3.4000e+01,\n",
              "        1.9000e+01, 2.4000e+01, 1.7000e+01, 2.7000e+01, 1.2000e+01,\n",
              "        1.1000e+01, 1.5000e+01, 6.0000e+00, 4.0000e+00, 2.0000e+00,\n",
              "        5.0000e+00, 4.0000e+00, 2.0000e+00, 3.0000e+00, 1.0000e+00,\n",
              "        3.0000e+00, 3.0000e+00, 1.0000e+00, 1.0000e+00, 0.0000e+00,\n",
              "        0.0000e+00, 0.0000e+00, 0.0000e+00, 1.0000e+00, 0.0000e+00,\n",
              "        0.0000e+00, 0.0000e+00, 0.0000e+00, 0.0000e+00, 1.0000e+00]),\n",
              " array([-18.18167243, -17.98436731, -17.7870622 , -17.58975708,\n",
              "        -17.39245196, -17.19514684, -16.99784173, -16.80053661,\n",
              "        -16.60323149, -16.40592638, -16.20862126, -16.01131614,\n",
              "        -15.81401102, -15.61670591, -15.41940079, -15.22209567,\n",
              "        -15.02479055, -14.82748544, -14.63018032, -14.4328752 ,\n",
              "        -14.23557008, -14.03826497, -13.84095985, -13.64365473,\n",
              "        -13.44634962, -13.2490445 , -13.05173938, -12.85443426,\n",
              "        -12.65712915, -12.45982403, -12.26251891, -12.06521379,\n",
              "        -11.86790868, -11.67060356, -11.47329844, -11.27599332,\n",
              "        -11.07868821, -10.88138309, -10.68407797, -10.48677286,\n",
              "        -10.28946774, -10.09216262,  -9.8948575 ,  -9.69755239,\n",
              "         -9.50024727,  -9.30294215,  -9.10563703,  -8.90833192,\n",
              "         -8.7110268 ,  -8.51372168,  -8.31641656,  -8.11911145,\n",
              "         -7.92180633,  -7.72450121,  -7.5271961 ,  -7.32989098,\n",
              "         -7.13258586,  -6.93528074,  -6.73797563,  -6.54067051,\n",
              "         -6.34336539,  -6.14606027,  -5.94875516,  -5.75145004,\n",
              "         -5.55414492,  -5.3568398 ,  -5.15953469,  -4.96222957,\n",
              "         -4.76492445,  -4.56761934,  -4.37031422,  -4.1730091 ,\n",
              "         -3.97570398,  -3.77839887,  -3.58109375,  -3.38378863,\n",
              "         -3.18648351,  -2.9891784 ,  -2.79187328,  -2.59456816,\n",
              "         -2.39726304,  -2.19995793,  -2.00265281,  -1.80534769,\n",
              "         -1.60804258,  -1.41073746,  -1.21343234,  -1.01612722,\n",
              "         -0.81882211,  -0.62151699,  -0.42421187,  -0.22690675,\n",
              "         -0.02960164,   0.16770348,   0.3650086 ,   0.56231372,\n",
              "          0.75961883,   0.95692395,   1.15422907,   1.35153418,\n",
              "          1.5488393 ,   1.74614442,   1.94344954,   2.14075465,\n",
              "          2.33805977,   2.53536489,   2.73267001,   2.92997512,\n",
              "          3.12728024,   3.32458536,   3.52189048,   3.71919559,\n",
              "          3.91650071,   4.11380583,   4.31111094,   4.50841606,\n",
              "          4.70572118,   4.9030263 ,   5.10033141,   5.29763653,\n",
              "          5.49494165,   5.69224677,   5.88955188,   6.086857  ,\n",
              "          6.28416212,   6.48146724,   6.67877235,   6.87607747,\n",
              "          7.07338259,   7.2706877 ,   7.46799282,   7.66529794,\n",
              "          7.86260306,   8.05990817,   8.25721329,   8.45451841,\n",
              "          8.65182353,   8.84912864,   9.04643376,   9.24373888,\n",
              "          9.441044  ,   9.63834911,   9.83565423,  10.03295935,\n",
              "         10.23026446,  10.42756958,  10.6248747 ,  10.82217982,\n",
              "         11.01948493,  11.21679005,  11.41409517,  11.61140029,\n",
              "         11.8087054 ,  12.00601052,  12.20331564,  12.40062076,\n",
              "         12.59792587,  12.79523099,  12.99253611,  13.18984122,\n",
              "         13.38714634,  13.58445146,  13.78175658,  13.97906169,\n",
              "         14.17636681,  14.37367193,  14.57097705,  14.76828216,\n",
              "         14.96558728,  15.1628924 ,  15.36019752,  15.55750263,\n",
              "         15.75480775,  15.95211287,  16.14941798,  16.3467231 ,\n",
              "         16.54402822,  16.74133334,  16.93863845,  17.13594357,\n",
              "         17.33324869,  17.53055381,  17.72785892,  17.92516404,\n",
              "         18.12246916,  18.31977428,  18.51707939,  18.71438451,\n",
              "         18.91168963,  19.10899474,  19.30629986,  19.50360498,\n",
              "         19.7009101 ,  19.89821521,  20.09552033,  20.29282545,\n",
              "         20.49013057,  20.68743568,  20.8847408 ,  21.08204592,\n",
              "         21.27935104]),\n",
              " <BarContainer object of 200 artists>)"
            ]
          },
          "execution_count": 34,
          "metadata": {},
          "output_type": "execute_result"
        },
        {
          "data": {
            "image/png": "[encoded data removed]",
            "text/plain": [
              "<Figure size 432x288 with 1 Axes>"
            ]
          },
          "metadata": {
            "needs_background": "light"
          },
          "output_type": "display_data"
        }
      ],
      "source": [
        "plt.hist(rand_normal,bins=200)"
      ]
    },
    {
      "cell_type": "code",
      "execution_count": null,
      "metadata": {
        "id": "XriY7J7DIMgm"
      },
      "outputs": [],
      "source": [
        "to_create=10000000\n",
        "rand_normal=np.random.normal(0,1,size=(3,to_create))\n",
        "time=np.arange(0,to_create)/np.pi\n",
        "sin1=np.sin(time+rand_normal[0]*0.04)*4\n",
        "sin2=np.sin(time*3+rand_normal[1]*0.04)\n",
        "data=sin1+sin2+0.07*rand_normal[2]"
      ]
    },
    {
      "cell_type": "code",
      "execution_count": null,
      "metadata": {
        "id": "ZJdvAPdpIMgm",
        "outputId": "552b69f8-ad90-413d-eeba-08d788960e6f"
      },
      "outputs": [
        {
          "data": {
            "text/plain": [
              "[<matplotlib.lines.Line2D at 0x7fc58fae6e90>]"
            ]
          },
          "execution_count": 36,
          "metadata": {},
          "output_type": "execute_result"
        },
        {
          "data": {
            "image/png": "[encoded data removed]",
            "text/plain": [
              "<Figure size 432x288 with 1 Axes>"
            ]
          },
          "metadata": {
            "needs_background": "light"
          },
          "output_type": "display_data"
        }
      ],
      "source": [
        "plt.plot(data[:100])"
      ]
    }
  ],
  "metadata": {
    "kernelspec": {
      "display_name": "Python 3",
      "language": "python",
      "name": "python3"
    },
    "language_info": {
      "codemirror_mode": {
        "name": "ipython",
        "version": 3
      },
      "file_extension": ".py",
      "mimetype": "text/x-python",
      "name": "python",
      "nbconvert_exporter": "python",
      "pygments_lexer": "ipython3",
      "version": "3.7.13"
    },
    "colab": {
      "provenance": [],
      "include_colab_link": true
    }
  },
  "nbformat": 4,
  "nbformat_minor": 0
}